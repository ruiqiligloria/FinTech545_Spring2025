{
 "cells": [
  {
   "cell_type": "markdown",
   "metadata": {},
   "source": [
    "## Problem 1"
   ]
  },
  {
   "cell_type": "code",
   "execution_count": 115,
   "metadata": {},
   "outputs": [
    {
     "name": "stdout",
     "output_type": "stream",
     "text": [
      "Arithmetic Returns (Last 5 Rows):\n",
      "                  SPY      AAPL      EQIX\n",
      "Date                                    \n",
      "2024-12-27 -0.011492 -0.014678 -0.006966\n",
      "2024-12-30 -0.012377 -0.014699 -0.008064\n",
      "2024-12-31 -0.004603 -0.008493  0.006512\n",
      "2025-01-02 -0.003422 -0.027671  0.000497\n",
      "2025-01-03  0.011538 -0.003445  0.015745\n",
      "SPY     0.008077\n",
      "AAPL    0.013483\n",
      "EQIX    0.015361\n",
      "dtype: float64\n"
     ]
    }
   ],
   "source": [
    "import pandas as pd\n",
    "import numpy as np\n",
    "\n",
    "# Load the dataset\n",
    "file_path = \"/Users/liruiqi/Desktop/545hw/project02/DailyPrices.csv\"\n",
    "df = pd.read_csv(file_path, parse_dates=['Date'], index_col='Date')\n",
    "\n",
    "# Selecting the stocks\n",
    "stocks = ['SPY', 'AAPL', 'EQIX']\n",
    "\n",
    "# A. Arithmetic Returns\n",
    "arithmetic_returns = df[stocks].pct_change().dropna()\n",
    "arithmetic_returns -= arithmetic_returns.mean()  # Remove mean\n",
    "\n",
    "# Display last 5 rows and total standard deviation\n",
    "print(\"Arithmetic Returns (Last 5 Rows):\\n\", arithmetic_returns.tail())\n",
    "print(arithmetic_returns.std())\n",
    "\n"
   ]
  },
  {
   "cell_type": "code",
   "execution_count": 116,
   "metadata": {},
   "outputs": [
    {
     "name": "stdout",
     "output_type": "stream",
     "text": [
      "\n",
      "Log Returns (Last 5 Rows):\n",
      "                  SPY      AAPL      EQIX\n",
      "Date                                    \n",
      "2024-12-27 -0.011515 -0.014675 -0.006867\n",
      "2024-12-30 -0.012410 -0.014696 -0.007972\n",
      "2024-12-31 -0.004577 -0.008427  0.006602\n",
      "2025-01-02 -0.003392 -0.027930  0.000613\n",
      "2025-01-03  0.011494 -0.003356  0.015725\n",
      "SPY     0.008078\n",
      "AAPL    0.013446\n",
      "EQIX    0.015270\n",
      "dtype: float64\n"
     ]
    }
   ],
   "source": [
    "# B. Log Returns\n",
    "log_returns = np.log(df[stocks] / df[stocks].shift(1)).dropna()\n",
    "log_returns -= log_returns.mean()\n",
    "\n",
    "# Display last 5 rows and total standard deviation\n",
    "print(\"\\nLog Returns (Last 5 Rows):\\n\", log_returns.tail())\n",
    "print(log_returns.std())"
   ]
  },
  {
   "cell_type": "markdown",
   "metadata": {},
   "source": [
    "## Problem 2"
   ]
  },
  {
   "cell_type": "code",
   "execution_count": 117,
   "metadata": {},
   "outputs": [
    {
     "name": "stdout",
     "output_type": "stream",
     "text": [
      "Current Portfolio Value on 1/3/2025: $251862.50\n"
     ]
    }
   ],
   "source": [
    "import scipy.stats as st\n",
    "\n",
    "# Define portfolio holdings\n",
    "portfolio = {'SPY': 100, 'AAPL': 200, 'EQIX': 150}\n",
    "\n",
    "# A. Calculate current portfolio value on 1/3/2025\n",
    "current_date = \"2025-01-03\"\n",
    "latest_prices = df.loc[current_date, portfolio.keys()]\n",
    "portfolio_value = (latest_prices * pd.Series(portfolio)).sum()\n",
    "\n",
    "print(\"Current Portfolio Value on 1/3/2025: ${:.2f}\".format(portfolio_value))\n"
   ]
  },
  {
   "cell_type": "code",
   "execution_count": 118,
   "metadata": {},
   "outputs": [
    {
     "name": "stdout",
     "output_type": "stream",
     "text": [
      "\n",
      "Method 2a (Normal EW Covariance):\n",
      "VaR 5%: $3886.02\n",
      "ES 5%: $4873.23\n"
     ]
    },
    {
     "name": "stdout",
     "output_type": "stream",
     "text": [
      "\n",
      "Method 2b (Copula):\n",
      "VaR (T-distribution with Gaussian Copula, 5%): $4379.51\n",
      "ES (T-distribution with Gaussian Copula, 5%): $6123.02\n",
      "\n",
      "Method 2c (Historical):\n",
      "VaR (Historical, 5%): $4575.03\n",
      "ES (Historical, 5%): $6059.39\n"
     ]
    }
   ],
   "source": [
    "# Define Portfolio\n",
    "portfolio = {'SPY': 100, 'AAPL': 200, 'EQIX': 150}\n",
    "\n",
    "returns = df[portfolio.keys()].pct_change().dropna()\n",
    "\n",
    "# 计算 1/3/2025 的当前投资组合价值\n",
    "current_date = \"2025-01-03\"\n",
    "latest_prices = df.loc[current_date, portfolio.keys()]\n",
    "portfolio_value = (latest_prices * pd.Series(portfolio)).sum()\n",
    "\n",
    "# 计算投资组合的权重\n",
    "weights = np.array(list(portfolio.values())) * latest_prices.to_numpy() / portfolio_value  # 正确计算权重\n",
    "alpha = 0.05  # 5% VaR\n",
    "\n",
    "### 方法 1: 正态分布 + 指数加权协方差 (Lambda = 0.97)\n",
    "lambda_ = 0.97\n",
    "ewma_cov = returns.ewm(span=(2 / (1 - lambda_) - 1)).cov()\n",
    "\n",
    "# 只取最后一个时间点的协方差矩阵\n",
    "ewma_cov = ewma_cov.groupby(level=1).last().dropna()\n",
    "\n",
    "# 确保 `ewma_cov` 只包含投资组合股票\n",
    "ewma_cov = ewma_cov.loc[portfolio.keys(), portfolio.keys()]\n",
    "\n",
    "# 计算投资组合标准差\n",
    "portfolio_std_ewma = np.sqrt(weights.T @ ewma_cov @ weights)\n",
    "\n",
    "VaR_norm = st.norm.ppf(alpha) * portfolio_std_ewma * portfolio_value\n",
    "ES_norm = -st.norm.pdf(st.norm.ppf(alpha)) / alpha * portfolio_std_ewma * portfolio_value  # 修正计算公式\n",
    "\n",
    "print(\"\\nMethod 2a (Normal EW Covariance):\")\n",
    "print(f\"VaR 5%: ${abs(VaR_norm):.2f}\")\n",
    "print(f\"ES 5%: ${abs(ES_norm):.2f}\")\n",
    "\n",
    "# **Method 2b: T Distribution + Gaussian Copula**\n",
    "from scipy.stats import t, norm\n",
    "\n",
    "def t_dist_gaussian_copula(returns, weights, portfolio_value, alpha=0.05, n_simulations=10000):\n",
    "    # 计算零均值收益\n",
    "    zero_mean_returns = returns - returns.mean()\n",
    "\n",
    "    # 拟合 t 分布并存储参数\n",
    "    params = {stock: t.fit(zero_mean_returns[stock]) for stock in returns.columns}\n",
    "\n",
    "    # 计算 t 分布的 CDF 转换到均匀分布\n",
    "    uniform_data = pd.DataFrame({\n",
    "        stock: t.cdf(zero_mean_returns[stock], *params[stock])\n",
    "        for stock in returns.columns\n",
    "    })\n",
    "\n",
    "    # 通过标准正态逆变换转换为正态分布\n",
    "    normal_data = uniform_data.apply(norm.ppf)\n",
    "\n",
    "    # 计算皮尔逊相关矩阵\n",
    "    corr_matrix = normal_data.corr().values\n",
    "\n",
    "    # 生成具有相关性的标准正态随机变量\n",
    "    np.random.seed(42)\n",
    "    Z = np.random.multivariate_normal(mean=np.zeros(len(returns.columns)), cov=corr_matrix, size=n_simulations)\n",
    "\n",
    "    # 变换回均匀分布\n",
    "    U = norm.cdf(Z)\n",
    "\n",
    "    # 变换回 t 分布\n",
    "    simulated_returns = np.column_stack([\n",
    "        t.ppf(U[:, i], *params[stock]) for i, stock in enumerate(returns.columns)\n",
    "    ])\n",
    "\n",
    "    # 计算投资组合收益\n",
    "    portfolio_returns = simulated_returns @ weights\n",
    "\n",
    "    # 计算 VaR 和 ES\n",
    "    portfolio_returns.sort()\n",
    "    var_index = int(alpha * n_simulations)\n",
    "    var_t_copula = -portfolio_returns[var_index] * portfolio_value\n",
    "    es_t_copula = -np.mean(portfolio_returns[:var_index]) * portfolio_value\n",
    "\n",
    "    return var_t_copula, es_t_copula\n",
    "\n",
    "# 计算 VaR 和 ES\n",
    "var_t_copula, es_t_copula = t_dist_gaussian_copula(returns, weights, portfolio_value)\n",
    "\n",
    "# 输出结果\n",
    "print(\"\\nMethod 2b (Copula):\")\n",
    "print(f\"VaR (T-distribution with Gaussian Copula, 5%): ${var_t_copula:.2f}\")\n",
    "print(f\"ES (T-distribution with Gaussian Copula, 5%): ${es_t_copula:.2f}\")\n",
    "\n",
    "\n",
    "#Method 3 **方法 3: 历史模拟**\n",
    "position_values = {stock: portfolio[stock] * latest_prices[stock] for stock in portfolio}\n",
    "\n",
    "historical_dollar_changes = pd.DataFrame({\n",
    "    stock: (returns[stock] - returns[stock].mean()) * position_values[stock] \n",
    "    for stock in portfolio\n",
    "})\n",
    "\n",
    "portfolio_pnl = historical_dollar_changes.sum(axis=1)\n",
    "\n",
    "# VaR 和 ES\n",
    "var_5pct = np.percentile(portfolio_pnl, 5)\n",
    "es_5pct = portfolio_pnl[portfolio_pnl <= var_5pct].mean()\n",
    "\n",
    "print(\"\\nMethod 2c (Historical):\")\n",
    "print(f\"VaR (Historical, 5%): ${-var_5pct:.2f}\")\n",
    "print(f\"ES (Historical, 5%): ${-es_5pct:.2f}\")\n"
   ]
  },
  {
   "cell_type": "markdown",
   "metadata": {},
   "source": [
    "## Problem 3"
   ]
  },
  {
   "cell_type": "code",
   "execution_count": 119,
   "metadata": {},
   "outputs": [
    {
     "name": "stdout",
     "output_type": "stream",
     "text": [
      "Implied Volatility: 0.3351\n",
      "Delta: 0.6659, Vega: 5.6407, Theta: -5.5446\n",
      "Estimated Option Price Change for 1% Volatility Increase: $0.0564\n"
     ]
    }
   ],
   "source": [
    "from scipy.optimize import minimize\n",
    "\n",
    "# Given Parameters\n",
    "T = 0.25  # Time to maturity (in years)\n",
    "S = 31  # Stock Price\n",
    "K = 30  # Strike Price\n",
    "r = 0.10  # Risk-Free Rate\n",
    "C = 3.00  # Call Price\n",
    "sigma_guess = 0.2  # Initial guess for implied volatility\n",
    "trading_days = 255\n",
    "holding_days = 20\n",
    "alpha = 0.05\n",
    "stock_vol = 0.25  # Given annual stock volatility\n",
    "\n",
    "# Black-Scholes Formula for a Call Option\n",
    "def black_scholes_call(S, K, T, r, sigma):\n",
    "    d1 = (np.log(S / K) + (r + 0.5 * sigma ** 2) * T) / (sigma * np.sqrt(T))\n",
    "    d2 = d1 - sigma * np.sqrt(T)\n",
    "    call_price = S * st.norm.cdf(d1) - K * np.exp(-r * T) * st.norm.cdf(d2)\n",
    "    return call_price\n",
    "\n",
    "# Solve for Implied Volatility\n",
    "def implied_volatility(sigma):\n",
    "    return (black_scholes_call(S, K, T, r, sigma) - C) ** 2\n",
    "\n",
    "opt_result = minimize(implied_volatility, sigma_guess, bounds=[(0.01, 1)])\n",
    "implied_vol = opt_result.x[0]\n",
    "\n",
    "print(f\"Implied Volatility: {implied_vol:.4f}\")\n",
    "\n",
    "# Greeks Calculation\n",
    "def greeks(S, K, T, r, sigma):\n",
    "    d1 = (np.log(S / K) + (r + 0.5 * sigma ** 2) * T) / (sigma * np.sqrt(T))\n",
    "    d2 = d1 - sigma * np.sqrt(T)\n",
    "\n",
    "    delta = st.norm.cdf(d1)\n",
    "    vega = S * st.norm.pdf(d1) * np.sqrt(T)\n",
    "    theta = (-S * st.norm.pdf(d1) * sigma / (2 * np.sqrt(T))) - (r * K * np.exp(-r * T) * st.norm.cdf(d2))\n",
    "\n",
    "    return delta, vega, theta\n",
    "\n",
    "delta, vega, theta = greeks(S, K, T, r, implied_vol)\n",
    "\n",
    "# Estimate Price Change if Implied Volatility Increases by 1%\n",
    "vol_increase = 0.01\n",
    "price_change = vega * vol_increase\n",
    "\n",
    "print(f\"Delta: {delta:.4f}, Vega: {vega:.4f}, Theta: {theta:.4f}\")\n",
    "print(f\"Estimated Option Price Change for 1% Volatility Increase: ${price_change:.4f}\")\n",
    "\n"
   ]
  },
  {
   "cell_type": "code",
   "execution_count": 120,
   "metadata": {},
   "outputs": [
    {
     "name": "stdout",
     "output_type": "stream",
     "text": [
      "Put Price (BSM Model): $1.2593\n",
      "Put-Call Parity Difference: 0.0000 (Should be ~0)\n"
     ]
    }
   ],
   "source": [
    "# Put Price Calculation using Black-Scholes\n",
    "def black_scholes_put(S, K, T, r, sigma):\n",
    "    d1 = (np.log(S / K) + (r + 0.5 * sigma ** 2) * T) / (sigma * np.sqrt(T))\n",
    "    d2 = d1 - sigma * np.sqrt(T)\n",
    "    put_price = K * np.exp(-r * T) * st.norm.cdf(-d2) - S * st.norm.cdf(-d1)\n",
    "    return put_price\n",
    "\n",
    "put_price = black_scholes_put(S, K, T, r, implied_vol)\n",
    "\n",
    "# Check Put-Call Parity\n",
    "put_call_parity = C - put_price - (S - K * np.exp(-r * T))\n",
    "\n",
    "print(f\"Put Price (BSM Model): ${put_price:.4f}\")\n",
    "print(f\"Put-Call Parity Difference: {put_call_parity:.4f} (Should be ~0)\")\n",
    "\n",
    "# Portfolio: 1 call, 1 put, 1 stock\n",
    "portfolio_value = C + put_price + S"
   ]
  },
  {
   "cell_type": "code",
   "execution_count": 121,
   "metadata": {},
   "outputs": [
    {
     "name": "stdout",
     "output_type": "stream",
     "text": [
      "\n",
      "(D) Delta-Normal Approximation (20-day, 5% level) [Standard ES]:\n",
      "    Mean change = -0.4670\n",
      "    Std of change = 2.3131\n",
      "    VaR = 4.2717\n",
      "    ES (Standard) = 5.2383\n",
      "\n",
      "(D) Monte Carlo Simulation (20-day, 5% level):\n",
      "    VaR = 2.5964\n",
      "    ES = 2.9147\n"
     ]
    },
    {
     "data": {
      "image/png": "[encoded data removed]",
      "text/plain": [
       "<Figure size 1000x600 with 1 Axes>"
      ]
     },
     "metadata": {},
     "output_type": "display_data"
    }
   ],
   "source": [
    "# (i) Delta–Normal Approximation\n",
    "# Using the second method's idea for VaR calculation:\n",
    "\n",
    "# Mean change due to time decay over holding period\n",
    "mean_change = portfolio_theta * dt\n",
    "\n",
    "# Standard deviation of portfolio change due to delta exposure\n",
    "std_portfolio = portfolio_delta * std_S\n",
    "\n",
    "# Using the 5% quantile (z_0.05) of the normal distribution\n",
    "z_5 = st.norm.ppf(0.05)  # approximately -1.645\n",
    "\n",
    "# Calculate portfolio quantile\n",
    "portfolio_quantile = mean_change + std_portfolio * z_5\n",
    "\n",
    "# VaR (expressed as a positive loss)\n",
    "VaR_delta_normal = -portfolio_quantile if portfolio_quantile < 0 else 0\n",
    "\n",
    "# Standard (left-tail) ES calculation\n",
    "ES_delta_normal = -(mean_change - std_portfolio * st.norm.pdf(z_5) / 0.05)\n",
    "\n",
    "print(\"\\n(D) Delta-Normal Approximation (20-day, 5% level) [Standard ES]:\")\n",
    "print(f\"    Mean change = {mean_change:.4f}\")\n",
    "print(f\"    Std of change = {std_portfolio:.4f}\")\n",
    "print(f\"    VaR = {VaR_delta_normal:.4f}\")\n",
    "print(f\"    ES (Standard) = {ES_delta_normal:.4f}\")\n",
    "\n",
    "# (ii) Monte Carlo Simulation\n",
    "n_sims = 10000\n",
    "np.random.seed(42)  # for reproducibility\n",
    "\n",
    "# Simulate stock returns over dt using lognormal dynamics (zero drift)\n",
    "Z = np.random.randn(n_sims)\n",
    "S_final = S * np.exp(-0.5 * annual_vol**2 * dt + annual_vol * math.sqrt(dt) * Z)\n",
    "\n",
    "# New time to maturity for the options (accounting for time decay)\n",
    "T_new = max(T - dt, 0.0)\n",
    "\n",
    "# Vectorized repricing of options at the new stock prices\n",
    "def batch_black_scholes_call(s_array, K, r, T, iv):\n",
    "    if T <= 0:\n",
    "        return np.maximum(s_array - K, 0)\n",
    "    d1 = (np.log(s_array / K) + (r + 0.5 * iv**2) * T) / (iv * np.sqrt(T))\n",
    "    d2 = d1 - iv * np.sqrt(T)\n",
    "    return s_array * st.norm.cdf(d1) - K * np.exp(-r * T) * st.norm.cdf(d2)\n",
    "\n",
    "def batch_black_scholes_put(s_array, K, r, T, iv):\n",
    "    if T <= 0:\n",
    "        return np.maximum(K - s_array, 0)\n",
    "    d1 = (np.log(s_array / K) + (r + 0.5 * iv**2) * T) / (iv * np.sqrt(T))\n",
    "    d2 = d1 - iv * np.sqrt(T)\n",
    "    return K * np.exp(-r * T) * st.norm.cdf(-d2) - s_array * st.norm.cdf(-d1)\n",
    "\n",
    "# Reprice the options using vectorized functions\n",
    "call_new = batch_black_scholes_call(S_final, K, r, T_new, iv)\n",
    "put_new = batch_black_scholes_put(S_final, K, r, T_new, iv)\n",
    "portfolio_new = call_new + put_new + S_final\n",
    "\n",
    "# Change in portfolio value\n",
    "portfolio_change = portfolio_new - portfolio_value_0\n",
    "\n",
    "# Compute VaR and ES at 5% level using Monte Carlo\n",
    "VaR_MC = -np.percentile(portfolio_change, 5)\n",
    "losses = -portfolio_change[portfolio_change < np.percentile(portfolio_change, 5)]\n",
    "ES_MC = losses.mean() if len(losses) > 0 else np.nan\n",
    "\n",
    "print(\"\\n(D) Monte Carlo Simulation (20-day, 5% level):\")\n",
    "print(f\"    VaR = {VaR_MC:.4f}\")\n",
    "print(f\"    ES = {ES_MC:.4f}\")\n",
    "\n",
    "# (E) Graphing the portfolio value vs. stock price.\n",
    "S_range = np.linspace(25, 40, 200)\n",
    "\n",
    "# Use vectorized functions to reprice options for the S range\n",
    "call_values = batch_black_scholes_call(S_range, K, r, T_new, iv)\n",
    "put_values = batch_black_scholes_put(S_range, K, r, T_new, iv)\n",
    "portfolio_values = call_values + put_values + S_range\n",
    "\n",
    "# Linear approximation: portfolio_value_0 + portfolio_delta*(S_range - S) + portfolio_theta*dt\n",
    "linear_approx = portfolio_value_0 + portfolio_delta * (S_range - S) + portfolio_theta * dt\n",
    "\n",
    "# Create visualization\n",
    "plt.figure(figsize=(10, 6))\n",
    "plt.plot(S_range, portfolio_values, label='Revalued Portfolio', color='blue', linewidth=2)\n",
    "plt.plot(S_range, linear_approx, label='Delta-Normal Approximation', linestyle='--', color='orange', linewidth=2)\n",
    "plt.scatter(S_final, portfolio_new, s=8, alpha=0.2, color='green', label='Monte Carlo Simulations')\n",
    "plt.axvline(x=S, color='black', linestyle=':', label=f'Current Stock Price (${S})')\n",
    "\n",
    "# Improve plot formatting\n",
    "plt.xlabel('Stock Price at End of Holding Period', fontsize=12)\n",
    "plt.ylabel('Portfolio Value', fontsize=12)\n",
    "plt.title('Portfolio Value vs. Stock Price (20-day Horizon)', fontsize=14)\n",
    "plt.legend(loc='best', frameon=True)\n",
    "plt.grid(True, alpha=0.3)\n",
    "plt.tight_layout()\n",
    "plt.show()"
   ]
  }
 ],
 "metadata": {
  "kernelspec": {
   "display_name": "Python 3",
   "language": "python",
   "name": "python3"
  },
  "language_info": {
   "codemirror_mode": {
    "name": "ipython",
    "version": 3
   },
   "file_extension": ".py",
   "mimetype": "text/x-python",
   "name": "python",
   "nbconvert_exporter": "python",
   "pygments_lexer": "ipython3",
   "version": "3.13.1"
  }
 },
 "nbformat": 4,
 "nbformat_minor": 2
}
